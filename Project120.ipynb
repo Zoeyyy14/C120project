{
  "nbformat": 4,
  "nbformat_minor": 0,
  "metadata": {
    "colab": {
      "name": "Project120.ipynb",
      "provenance": [],
      "authorship_tag": "ABX9TyMkxBN8KPh8d0s5zYfAA0Wo",
      "include_colab_link": true
    },
    "kernelspec": {
      "name": "python3",
      "display_name": "Python 3"
    },
    "language_info": {
      "name": "python"
    }
  },
  "cells": [
    {
      "cell_type": "markdown",
      "metadata": {
        "id": "view-in-github",
        "colab_type": "text"
      },
      "source": [
        "<a href=\"https://colab.research.google.com/github/Zoeyyy14/C120project/blob/main/Project120.ipynb\" target=\"_parent\"><img src=\"https://colab.research.google.com/assets/colab-badge.svg\" alt=\"Open In Colab\"/></a>"
      ]
    },
    {
      "cell_type": "code",
      "metadata": {
        "id": "H8emNkZf07mU"
      },
      "source": [
        "from sklearn import datasets\n",
        "wine=datasets.load_wine()"
      ],
      "execution_count": 1,
      "outputs": []
    },
    {
      "cell_type": "code",
      "metadata": {
        "colab": {
          "base_uri": "https://localhost:8080/"
        },
        "id": "-ndiVgts1XLx",
        "outputId": "efbbb06d-0178-410a-f11f-dfd5df370556"
      },
      "source": [
        "print(wine.feature_names)\n",
        "print(wine.target_names)"
      ],
      "execution_count": 2,
      "outputs": [
        {
          "output_type": "stream",
          "text": [
            "['alcohol', 'malic_acid', 'ash', 'alcalinity_of_ash', 'magnesium', 'total_phenols', 'flavanoids', 'nonflavanoid_phenols', 'proanthocyanins', 'color_intensity', 'hue', 'od280/od315_of_diluted_wines', 'proline']\n",
            "['class_0' 'class_1' 'class_2']\n"
          ],
          "name": "stdout"
        }
      ]
    },
    {
      "cell_type": "code",
      "metadata": {
        "id": "9FeWqLs61nEG"
      },
      "source": [
        "from sklearn.model_selection import train_test_split\n",
        "X=wine.data\n",
        "Y=wine.target\n",
        "X_train,X_test,Y_train,Y_test=train_test_split(X,Y,test_size=0.3,random_state=109)"
      ],
      "execution_count": 4,
      "outputs": []
    },
    {
      "cell_type": "code",
      "metadata": {
        "colab": {
          "base_uri": "https://localhost:8080/"
        },
        "id": "zyrhJ_B_2DP7",
        "outputId": "4c19791e-ca23-4788-df32-1824ce4390de"
      },
      "source": [
        "from sklearn.naive_bayes import GaussianNB\n",
        "from sklearn import metrics\n",
        "GnB=GaussianNB()\n",
        "GnB.fit(X_train,Y_train)\n",
        "Y_pred=GnB.predict(X_test)\n",
        "print(\"accuracy\",metrics.accuracy_score(Y_test,Y_pred))"
      ],
      "execution_count": 6,
      "outputs": [
        {
          "output_type": "stream",
          "text": [
            "accuracy 0.9074074074074074\n"
          ],
          "name": "stdout"
        }
      ]
    }
  ]
}